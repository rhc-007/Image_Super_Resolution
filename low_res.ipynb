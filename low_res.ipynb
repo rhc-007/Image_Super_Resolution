{
 "cells": [
  {
   "cell_type": "code",
   "execution_count": null,
   "id": "64ac9c2e",
   "metadata": {},
   "outputs": [
    {
     "name": "stdout",
     "output_type": "stream",
     "text": [
      "Generating LR images for D:\\DL Project\\DIV2K_train_HR...\n"
     ]
    },
    {
     "name": "stderr",
     "output_type": "stream",
     "text": [
      "100%|██████████| 800/800 [01:19<00:00, 10.01it/s]\n"
     ]
    },
    {
     "name": "stdout",
     "output_type": "stream",
     "text": [
      "Generating LR images for D:\\DL Project\\DIV2K_valid_HR...\n"
     ]
    },
    {
     "name": "stderr",
     "output_type": "stream",
     "text": [
      "100%|██████████| 100/100 [00:09<00:00, 10.15it/s]"
     ]
    },
    {
     "name": "stdout",
     "output_type": "stream",
     "text": [
      "✅ All LR images generated successfully.\n"
     ]
    },
    {
     "name": "stderr",
     "output_type": "stream",
     "text": [
      "\n"
     ]
    }
   ],
   "source": [
    "import os\n",
    "from PIL import Image\n",
    "from tqdm import tqdm\n",
    "\n",
    "base_path = r\"D:\\DL Project\"\n",
    "scale = 2\n",
    "\n",
    "folders = [\"D:\\DL Project\\DIV2K_train_HR\", \"D:\\DL Project\\DIV2K_valid_HR\"]\n",
    "\n",
    "for folder in folders:\n",
    "    hr_dir = os.path.join(base_path, folder)\n",
    "    lr_dir = os.path.join(base_path, folder.replace(\"_HR\", f\"_LR_x{scale}\"))\n",
    "    os.makedirs(lr_dir, exist_ok=True)\n",
    "\n",
    "    print(f\"Generating LR images for {folder}...\")\n",
    "    for filename in tqdm(os.listdir(hr_dir)):\n",
    "        if filename.lower().endswith((\".png\", \".jpg\", \".jpeg\")):\n",
    "            img = Image.open(os.path.join(hr_dir, filename))\n",
    "            w, h = img.size\n",
    "            img_lr = img.resize((w // scale, h // scale), Image.BICUBIC)\n",
    "            img_lr.save(os.path.join(lr_dir, filename))\n",
    "\n",
    "print(\"✅ All LR images generated successfully.\")\n"
   ]
  }
 ],
 "metadata": {
  "kernelspec": {
   "display_name": "Python 3",
   "language": "python",
   "name": "python3"
  },
  "language_info": {
   "codemirror_mode": {
    "name": "ipython",
    "version": 3
   },
   "file_extension": ".py",
   "mimetype": "text/x-python",
   "name": "python",
   "nbconvert_exporter": "python",
   "pygments_lexer": "ipython3",
   "version": "3.10.11"
  }
 },
 "nbformat": 4,
 "nbformat_minor": 5
}
